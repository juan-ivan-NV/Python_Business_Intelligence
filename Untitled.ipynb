{
 "cells": [
  {
   "cell_type": "markdown",
   "metadata": {},
   "source": [
    "## Python BI Location project"
   ]
  },
  {
   "cell_type": "code",
   "execution_count": 1,
   "metadata": {},
   "outputs": [],
   "source": [
    "#Importing libraries\n",
    "\n",
    "import pandas as pd\n",
    "import re\n",
    "from pymongo import MongoClient"
   ]
  },
  {
   "cell_type": "code",
   "execution_count": 2,
   "metadata": {},
   "outputs": [],
   "source": [
    "#Importing data base\n",
    "\n",
    "client=MongoClient()\n",
    "db = client.db_companies\n",
    "collection_companies = db.companies"
   ]
  },
  {
   "cell_type": "code",
   "execution_count": 3,
   "metadata": {},
   "outputs": [
    {
     "data": {
      "text/plain": [
       "['web',\n",
       " 'enterprise',\n",
       " 'software',\n",
       " 'news',\n",
       " 'social',\n",
       " 'network_hosting',\n",
       " 'games_video',\n",
       " 'music',\n",
       " 'mobile',\n",
       " 'search',\n",
       " 'advertising',\n",
       " 'messaging',\n",
       " 'security',\n",
       " 'photo_video',\n",
       " 'finance',\n",
       " 'hardware',\n",
       " 'ecommerce',\n",
       " 'travel',\n",
       " 'public_relations',\n",
       " 'other',\n",
       " 'real_estate',\n",
       " 'semiconductor',\n",
       " 'analytics',\n",
       " 'health',\n",
       " 'legal',\n",
       " 'sports',\n",
       " 'biotech',\n",
       " 'cleantech',\n",
       " 'education',\n",
       " 'consulting',\n",
       " 'transportation',\n",
       " None,\n",
       " 'hospitality',\n",
       " 'fashion',\n",
       " 'nonprofit',\n",
       " 'nanotech',\n",
       " 'automotive',\n",
       " 'design']"
      ]
     },
     "execution_count": 3,
     "metadata": {},
     "output_type": "execute_result"
    }
   ],
   "source": [
    "#Some categories available\n",
    "\n",
    "import itertools\n",
    "from operator import itemgetter\n",
    "categories = list(collection_companies.find({ 'category_code' : { '$exists' : 'true' }}, {'_id':0,'category_code' :1}).limit(2000))\n",
    "res = dict((k, list(g)) for k, g in itertools.groupby(categories, key=itemgetter('category_code')))\n",
    "list(res.keys())"
   ]
  },
  {
   "cell_type": "code",
   "execution_count": 4,
   "metadata": {},
   "outputs": [],
   "source": [
    "#Filtering all data\n",
    "\n",
    "filtering = list(collection_companies.find({'$or': [{'category_code':'ecommerce'},\\\n",
    "                                         {'category_code':'hardware'},\\\n",
    "                                         {'category_code':'software'}],\\\n",
    "                                         'number_of_employees' : {'$lt': 1000 },\\\n",
    "                                         'offices' : {'$not': {'$size':0}},\\\n",
    "                                         'offices.latitude' : { '$ne': None }},\\\n",
    "                                         {'_id':0,'name':1,'category_code':1,'offices':1}))"
   ]
  },
  {
   "cell_type": "code",
   "execution_count": 5,
   "metadata": {},
   "outputs": [
    {
     "data": {
      "text/plain": [
       "1201"
      ]
     },
     "execution_count": 5,
     "metadata": {},
     "output_type": "execute_result"
    }
   ],
   "source": [
    "#Amount of data\n",
    "\n",
    "len(filtering)"
   ]
  },
  {
   "cell_type": "code",
   "execution_count": 6,
   "metadata": {},
   "outputs": [
    {
     "data": {
      "text/html": [
       "<div>\n",
       "<style scoped>\n",
       "    .dataframe tbody tr th:only-of-type {\n",
       "        vertical-align: middle;\n",
       "    }\n",
       "\n",
       "    .dataframe tbody tr th {\n",
       "        vertical-align: top;\n",
       "    }\n",
       "\n",
       "    .dataframe thead th {\n",
       "        text-align: right;\n",
       "    }\n",
       "</style>\n",
       "<table border=\"1\" class=\"dataframe\">\n",
       "  <thead>\n",
       "    <tr style=\"text-align: right;\">\n",
       "      <th></th>\n",
       "      <th>name</th>\n",
       "      <th>category_code</th>\n",
       "      <th>offices</th>\n",
       "    </tr>\n",
       "  </thead>\n",
       "  <tbody>\n",
       "    <tr>\n",
       "      <td>0</td>\n",
       "      <td>ooma</td>\n",
       "      <td>hardware</td>\n",
       "      <td>[{'description': '', 'address1': '1840 Embarca...</td>\n",
       "    </tr>\n",
       "    <tr>\n",
       "      <td>1</td>\n",
       "      <td>GoingOn</td>\n",
       "      <td>software</td>\n",
       "      <td>[{'description': 'GoingOn Networks, Inc.', 'ad...</td>\n",
       "    </tr>\n",
       "    <tr>\n",
       "      <td>2</td>\n",
       "      <td>Bazaarvoice</td>\n",
       "      <td>software</td>\n",
       "      <td>[{'description': 'Head Office', 'address1': '3...</td>\n",
       "    </tr>\n",
       "    <tr>\n",
       "      <td>3</td>\n",
       "      <td>spigit</td>\n",
       "      <td>software</td>\n",
       "      <td>[{'description': '', 'address1': '311 Ray Stre...</td>\n",
       "    </tr>\n",
       "    <tr>\n",
       "      <td>4</td>\n",
       "      <td>JumpBox</td>\n",
       "      <td>software</td>\n",
       "      <td>[{'description': '', 'address1': 'PO Box 15265...</td>\n",
       "    </tr>\n",
       "  </tbody>\n",
       "</table>\n",
       "</div>"
      ],
      "text/plain": [
       "          name category_code  \\\n",
       "0         ooma      hardware   \n",
       "1      GoingOn      software   \n",
       "2  Bazaarvoice      software   \n",
       "3       spigit      software   \n",
       "4      JumpBox      software   \n",
       "\n",
       "                                             offices  \n",
       "0  [{'description': '', 'address1': '1840 Embarca...  \n",
       "1  [{'description': 'GoingOn Networks, Inc.', 'ad...  \n",
       "2  [{'description': 'Head Office', 'address1': '3...  \n",
       "3  [{'description': '', 'address1': '311 Ray Stre...  \n",
       "4  [{'description': '', 'address1': 'PO Box 15265...  "
      ]
     },
     "execution_count": 6,
     "metadata": {},
     "output_type": "execute_result"
    }
   ],
   "source": [
    "#Creating a data frame with the data\n",
    "\n",
    "df=pd.DataFrame(filtering)\n",
    "df.head()"
   ]
  },
  {
   "cell_type": "code",
   "execution_count": 7,
   "metadata": {},
   "outputs": [],
   "source": [
    "#Deleting null data\n",
    "\n",
    "df=df.dropna()"
   ]
  },
  {
   "cell_type": "code",
   "execution_count": 8,
   "metadata": {},
   "outputs": [],
   "source": [
    "#Function to get lat and len\n",
    "\n",
    "def get_first(data):\n",
    "    data=data['offices']\n",
    "    \n",
    "    principal=None\n",
    "    \n",
    "    \n",
    "    if data[0]['latitude'] and data[0]['longitude']:\n",
    "        # esto ya es una geoquery (geopoint)\n",
    "        principal={\n",
    "            'type':'Point',\n",
    "            'coordinates':[data[0]['longitude'],\n",
    "                           data[0]['latitude']]\n",
    "        }\n",
    "        \n",
    "    return {'totalOffices': len(data), \n",
    "            'lat': data[0]['latitude'],\n",
    "            'lng': data[0]['longitude'],\n",
    "            'principal': principal}"
   ]
  },
  {
   "cell_type": "code",
   "execution_count": 9,
   "metadata": {},
   "outputs": [],
   "source": [
    "#New structurated data with lat and long\n",
    "\n",
    "New_office=df[['offices']].apply(get_first, result_type='expand', axis=1)"
   ]
  },
  {
   "cell_type": "code",
   "execution_count": 10,
   "metadata": {},
   "outputs": [
    {
     "data": {
      "text/html": [
       "<div>\n",
       "<style scoped>\n",
       "    .dataframe tbody tr th:only-of-type {\n",
       "        vertical-align: middle;\n",
       "    }\n",
       "\n",
       "    .dataframe tbody tr th {\n",
       "        vertical-align: top;\n",
       "    }\n",
       "\n",
       "    .dataframe thead th {\n",
       "        text-align: right;\n",
       "    }\n",
       "</style>\n",
       "<table border=\"1\" class=\"dataframe\">\n",
       "  <thead>\n",
       "    <tr style=\"text-align: right;\">\n",
       "      <th></th>\n",
       "      <th>totalOffices</th>\n",
       "      <th>lat</th>\n",
       "      <th>lng</th>\n",
       "      <th>principal</th>\n",
       "    </tr>\n",
       "  </thead>\n",
       "  <tbody>\n",
       "    <tr>\n",
       "      <td>0</td>\n",
       "      <td>1</td>\n",
       "      <td>37.451958</td>\n",
       "      <td>-122.116026</td>\n",
       "      <td>{'type': 'Point', 'coordinates': [-122.116026,...</td>\n",
       "    </tr>\n",
       "    <tr>\n",
       "      <td>1</td>\n",
       "      <td>1</td>\n",
       "      <td>37.782263</td>\n",
       "      <td>-122.392142</td>\n",
       "      <td>{'type': 'Point', 'coordinates': [-122.392142,...</td>\n",
       "    </tr>\n",
       "    <tr>\n",
       "      <td>2</td>\n",
       "      <td>1</td>\n",
       "      <td>30.407545</td>\n",
       "      <td>-97.717667</td>\n",
       "      <td>{'type': 'Point', 'coordinates': [-97.717667, ...</td>\n",
       "    </tr>\n",
       "    <tr>\n",
       "      <td>3</td>\n",
       "      <td>3</td>\n",
       "      <td>37.663728</td>\n",
       "      <td>-121.873181</td>\n",
       "      <td>{'type': 'Point', 'coordinates': [-121.8731805...</td>\n",
       "    </tr>\n",
       "    <tr>\n",
       "      <td>4</td>\n",
       "      <td>1</td>\n",
       "      <td>33.429864</td>\n",
       "      <td>-111.944967</td>\n",
       "      <td>{'type': 'Point', 'coordinates': [-111.944967,...</td>\n",
       "    </tr>\n",
       "  </tbody>\n",
       "</table>\n",
       "</div>"
      ],
      "text/plain": [
       "   totalOffices        lat         lng  \\\n",
       "0             1  37.451958 -122.116026   \n",
       "1             1  37.782263 -122.392142   \n",
       "2             1  30.407545  -97.717667   \n",
       "3             3  37.663728 -121.873181   \n",
       "4             1  33.429864 -111.944967   \n",
       "\n",
       "                                           principal  \n",
       "0  {'type': 'Point', 'coordinates': [-122.116026,...  \n",
       "1  {'type': 'Point', 'coordinates': [-122.392142,...  \n",
       "2  {'type': 'Point', 'coordinates': [-97.717667, ...  \n",
       "3  {'type': 'Point', 'coordinates': [-121.8731805...  \n",
       "4  {'type': 'Point', 'coordinates': [-111.944967,...  "
      ]
     },
     "execution_count": 10,
     "metadata": {},
     "output_type": "execute_result"
    }
   ],
   "source": [
    "#Overview\n",
    "\n",
    "New_office = New_office.dropna()\n",
    "New_office.head()"
   ]
  },
  {
   "cell_type": "code",
   "execution_count": 11,
   "metadata": {},
   "outputs": [
    {
     "data": {
      "text/html": [
       "<div>\n",
       "<style scoped>\n",
       "    .dataframe tbody tr th:only-of-type {\n",
       "        vertical-align: middle;\n",
       "    }\n",
       "\n",
       "    .dataframe tbody tr th {\n",
       "        vertical-align: top;\n",
       "    }\n",
       "\n",
       "    .dataframe thead th {\n",
       "        text-align: right;\n",
       "    }\n",
       "</style>\n",
       "<table border=\"1\" class=\"dataframe\">\n",
       "  <thead>\n",
       "    <tr style=\"text-align: right;\">\n",
       "      <th></th>\n",
       "      <th>name</th>\n",
       "      <th>category_code</th>\n",
       "      <th>totalOffices</th>\n",
       "      <th>lat</th>\n",
       "      <th>lng</th>\n",
       "      <th>principal</th>\n",
       "    </tr>\n",
       "  </thead>\n",
       "  <tbody>\n",
       "    <tr>\n",
       "      <td>0</td>\n",
       "      <td>ooma</td>\n",
       "      <td>hardware</td>\n",
       "      <td>1</td>\n",
       "      <td>37.451958</td>\n",
       "      <td>-122.116026</td>\n",
       "      <td>{'type': 'Point', 'coordinates': [-122.116026,...</td>\n",
       "    </tr>\n",
       "    <tr>\n",
       "      <td>1</td>\n",
       "      <td>GoingOn</td>\n",
       "      <td>software</td>\n",
       "      <td>1</td>\n",
       "      <td>37.782263</td>\n",
       "      <td>-122.392142</td>\n",
       "      <td>{'type': 'Point', 'coordinates': [-122.392142,...</td>\n",
       "    </tr>\n",
       "    <tr>\n",
       "      <td>2</td>\n",
       "      <td>Bazaarvoice</td>\n",
       "      <td>software</td>\n",
       "      <td>1</td>\n",
       "      <td>30.407545</td>\n",
       "      <td>-97.717667</td>\n",
       "      <td>{'type': 'Point', 'coordinates': [-97.717667, ...</td>\n",
       "    </tr>\n",
       "    <tr>\n",
       "      <td>3</td>\n",
       "      <td>spigit</td>\n",
       "      <td>software</td>\n",
       "      <td>3</td>\n",
       "      <td>37.663728</td>\n",
       "      <td>-121.873181</td>\n",
       "      <td>{'type': 'Point', 'coordinates': [-121.8731805...</td>\n",
       "    </tr>\n",
       "    <tr>\n",
       "      <td>4</td>\n",
       "      <td>JumpBox</td>\n",
       "      <td>software</td>\n",
       "      <td>1</td>\n",
       "      <td>33.429864</td>\n",
       "      <td>-111.944967</td>\n",
       "      <td>{'type': 'Point', 'coordinates': [-111.944967,...</td>\n",
       "    </tr>\n",
       "  </tbody>\n",
       "</table>\n",
       "</div>"
      ],
      "text/plain": [
       "          name category_code  totalOffices        lat         lng  \\\n",
       "0         ooma      hardware             1  37.451958 -122.116026   \n",
       "1      GoingOn      software             1  37.782263 -122.392142   \n",
       "2  Bazaarvoice      software             1  30.407545  -97.717667   \n",
       "3       spigit      software             3  37.663728 -121.873181   \n",
       "4      JumpBox      software             1  33.429864 -111.944967   \n",
       "\n",
       "                                           principal  \n",
       "0  {'type': 'Point', 'coordinates': [-122.116026,...  \n",
       "1  {'type': 'Point', 'coordinates': [-122.392142,...  \n",
       "2  {'type': 'Point', 'coordinates': [-97.717667, ...  \n",
       "3  {'type': 'Point', 'coordinates': [-121.8731805...  \n",
       "4  {'type': 'Point', 'coordinates': [-111.944967,...  "
      ]
     },
     "execution_count": 11,
     "metadata": {},
     "output_type": "execute_result"
    }
   ],
   "source": [
    "#New data frame \n",
    "\n",
    "df=pd.concat([df, New_office], axis=1).drop(columns=['offices'])\n",
    "df=df.dropna()\n",
    "df.head()"
   ]
  },
  {
   "cell_type": "code",
   "execution_count": 12,
   "metadata": {},
   "outputs": [
    {
     "data": {
      "text/plain": [
       "<pymongo.results.InsertManyResult at 0x1fb39fb0248>"
      ]
     },
     "execution_count": 12,
     "metadata": {},
     "output_type": "execute_result"
    }
   ],
   "source": [
    "#Filtering data document into the original folder\n",
    "\n",
    "db.New_office.insert_many(df.to_dict('records'))"
   ]
  },
  {
   "cell_type": "code",
   "execution_count": 13,
   "metadata": {},
   "outputs": [
    {
     "data": {
      "text/plain": [
       "'principal_2dsphere'"
      ]
     },
     "execution_count": 13,
     "metadata": {},
     "output_type": "execute_result"
    }
   ],
   "source": [
    "#2dsphere\n",
    "\n",
    "db.New_office.create_index([('principal', '2dsphere')])"
   ]
  },
  {
   "cell_type": "code",
   "execution_count": null,
   "metadata": {},
   "outputs": [],
   "source": []
  },
  {
   "cell_type": "code",
   "execution_count": null,
   "metadata": {},
   "outputs": [],
   "source": []
  },
  {
   "cell_type": "code",
   "execution_count": null,
   "metadata": {},
   "outputs": [],
   "source": []
  }
 ],
 "metadata": {
  "kernelspec": {
   "display_name": "Python 3",
   "language": "python",
   "name": "python3"
  },
  "language_info": {
   "codemirror_mode": {
    "name": "ipython",
    "version": 3
   },
   "file_extension": ".py",
   "mimetype": "text/x-python",
   "name": "python",
   "nbconvert_exporter": "python",
   "pygments_lexer": "ipython3",
   "version": "3.7.4"
  }
 },
 "nbformat": 4,
 "nbformat_minor": 2
}
